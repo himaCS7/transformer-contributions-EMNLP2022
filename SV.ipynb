{
 "cells": [
  {
   "cell_type": "code",
   "execution_count": 1,
   "metadata": {},
   "outputs": [
    {
     "data": {
      "text/plain": [
       "1"
      ]
     },
     "execution_count": 1,
     "metadata": {},
     "output_type": "execute_result"
    }
   ],
   "source": [
    "from transformers import AutoTokenizer, AutoModelForSequenceClassification\n",
    "from utils_contributions import *\n",
    "import torch.nn.functional as F\n",
    "from contributions import ModelWrapper, ClassificationModelWrapperCaptum, LMModelWrapperCaptum, interpret_sentence_sv\n",
    "import pandas as pd\n",
    "\n",
    "# from functools import partial\n",
    "# import collections\n",
    "import torch.nn as nn\n",
    "import random\n",
    "random.seed(10)\n",
    "\n",
    "device = \"cuda\" if torch.cuda.is_available() else \"cpu\"\n",
    "\n",
    "torch.cuda.set_device(1)\n",
    "torch.cuda.current_device()"
   ]
  },
  {
   "cell_type": "markdown",
   "metadata": {},
   "source": [
    "# Subject-verb agreement"
   ]
  },
  {
   "cell_type": "code",
   "execution_count": 2,
   "metadata": {},
   "outputs": [
    {
     "name": "stdout",
     "output_type": "stream",
     "text": [
      "Loading distilbert ...\n",
      "Loading None ...\n"
     ]
    }
   ],
   "source": [
    "model_name = 'distilbert'\n",
    "\n",
    "model, tokenizer, dataset_partition = load_model_data(model_name)"
   ]
  },
  {
   "cell_type": "code",
   "execution_count": 21,
   "metadata": {},
   "outputs": [],
   "source": [
    "num_sentences = 4000#3,4000,10,28\n",
    "for i,line in enumerate(open(\"lgd_dataset.tsv\",encoding=\"utf8\")):\n",
    "    na,_,masked,good,bad = line.strip().split(\"\\t\")\n",
    "    if model_name == 'roberta':\n",
    "        good = '\\u0120' + good\n",
    "        bad = '\\u0120' + bad\n",
    "    if i == num_sentences:\n",
    "        break"
   ]
  },
  {
   "cell_type": "markdown",
   "metadata": {},
   "source": [
    "### Tokenize text"
   ]
  },
  {
   "cell_type": "code",
   "execution_count": 22,
   "metadata": {},
   "outputs": [
    {
     "name": "stdout",
     "output_type": "stream",
     "text": [
      "certainly the tracks listed on the chart all [MASK] to be very obscure .\n",
      "['[CLS]', 'certainly', 'the', 'tracks', 'listed', 'on', 'the', 'chart', 'all', '[MASK]', 'to', 'be', 'very', 'obscure', '.', '[SEP]']\n",
      "correct verb: seem 4025\n"
     ]
    }
   ],
   "source": [
    "text = masked.replace('***mask***',tokenizer.mask_token)\n",
    "print(text)\n",
    "pt_batch = tokenizer(text, return_tensors=\"pt\").to(device)\n",
    "target_idx = (pt_batch['input_ids'][0] == tokenizer.mask_token_id).nonzero(as_tuple=True)\n",
    "target_idx = target_idx[0].item()\n",
    "tokenized_text = tokenizer.convert_ids_to_tokens(pt_batch[\"input_ids\"][0])\n",
    "print(tokenized_text)\n",
    "good_verb_id = tokenizer.convert_tokens_to_ids(good)\n",
    "wrong_verb_id = tokenizer.convert_tokens_to_ids(bad)\n",
    "print('correct verb:', good, good_verb_id)\n"
   ]
  },
  {
   "cell_type": "markdown",
   "metadata": {},
   "source": [
    "## Forward pass"
   ]
  },
  {
   "cell_type": "code",
   "execution_count": 23,
   "metadata": {},
   "outputs": [
    {
     "name": "stdout",
     "output_type": "stream",
     "text": [
      "tensor(3711, device='cuda:1')\n",
      "predicted token appear\n",
      "probability of highest predicted token tensor(0.4433, device='cuda:1')\n"
     ]
    }
   ],
   "source": [
    "model_wrapped = ModelWrapper(model)\n",
    "prediction_scores, hidden_states, attentions, transformed_vectors_norm_model, contributions, _ = model_wrapped(pt_batch)\n",
    "probs = torch.nn.functional.softmax(prediction_scores, dim=-1)\n",
    "pred_ind = torch.argmax(probs[0][target_idx])\n",
    "print(pred_ind)\n",
    "pred = torch.max(probs[0][target_idx])\n",
    "print('predicted token', tokenizer.convert_ids_to_tokens(pred_ind.item()))\n",
    "print('probability of highest predicted token', pred)"
   ]
  },
  {
   "cell_type": "code",
   "execution_count": 24,
   "metadata": {},
   "outputs": [
    {
     "data": {
      "text/plain": [
       "tensor(0.3702, device='cuda:1')"
      ]
     },
     "execution_count": 24,
     "metadata": {},
     "output_type": "execute_result"
    }
   ],
   "source": [
    "## probability of correct verb\n",
    "probs[0,target_idx,good_verb_id]"
   ]
  },
  {
   "cell_type": "code",
   "execution_count": 25,
   "metadata": {},
   "outputs": [
    {
     "name": "stdout",
     "output_type": "stream",
     "text": [
      "torch.Size([16, 16, 30522])\n",
      "torch.Size([16])\n"
     ]
    },
    {
     "data": {
      "image/png": "[encoded data removed]",
      "text/plain": [
       "<Figure size 1440x288 with 1 Axes>"
      ]
     },
     "metadata": {
      "needs_background": "light"
     },
     "output_type": "display_data"
    }
   ],
   "source": [
    "model_wrapped = ModelWrapper(model)\n",
    "prediction_scores, hidden_states, attentions, transformed_vectors_norm_model, contributions, _ = model_wrapped(pt_batch)\n",
    "probs = torch.nn.functional.softmax(prediction_scores, dim=-1)\n",
    "actual_verb_score = probs[0][target_idx][good_verb_id]\n",
    "inflected_verb_score = probs[0][target_idx][wrong_verb_id]\n",
    "\n",
    "main_diff_score = actual_verb_score - inflected_verb_score\n",
    "\n",
    "# Repeating examples and replacing one token at a time with unk\n",
    "batch_size = 1\n",
    "max_len = pt_batch['input_ids'][0].size(0)\n",
    "\n",
    "# Repeat each example 'max_len' times\n",
    "x = pt_batch['input_ids'].cpu().detach().numpy()\n",
    "extended_x = np.reshape(np.tile(x[:,None,...], (1, max_len, 1)),(-1,x.shape[-1]))\n",
    "\n",
    "# Create unk sequences and unk mask\n",
    "unktoken = tokenizer.encode([tokenizer.mask_token])[1]\n",
    "unks = unktoken * np.eye(max_len)\n",
    "unks =  np.tile(unks, (batch_size, 1))\n",
    "\n",
    "unk_mask =  (unktoken - unks)/unktoken\n",
    "\n",
    "# Replace one token in each repeatition with unk\n",
    "extended_x = extended_x * unk_mask + unks\n",
    "\n",
    "# Get the new output\n",
    "extended_logits = model_wrapped.get_prediction(torch.tensor(extended_x, dtype=torch.int64,device=device))\n",
    "# extended_logits = extended_predictions[0]\n",
    "extended_probs = torch.nn.Softmax(dim=-1)(extended_logits)\n",
    "print(extended_probs.size())\n",
    "extended_correct_probs = extended_probs[:,target_idx,good_verb_id]\n",
    "print(extended_correct_probs.size())\n",
    "# extended_wrong_probs =  extended_probs[:,target_idx,wrong_verb_id]\n",
    "# extended_diff_scores = extended_correct_probs - extended_wrong_probs\n",
    "\n",
    "\n",
    "# # Save the difference in the probability predicted for the correct class\n",
    "#diffs = abs(main_diff_score - extended_diff_scores)\n",
    "diffs = abs(actual_verb_score - extended_correct_probs)\n",
    "\n",
    "plot_histogram(diffs,tokenized_text)"
   ]
  },
  {
   "cell_type": "markdown",
   "metadata": {},
   "source": [
    "### Getting attention weights (attentions_mat), attention vector norms (model_norms) and contributions from our method (contributions)"
   ]
  },
  {
   "cell_type": "code",
   "execution_count": 26,
   "metadata": {},
   "outputs": [
    {
     "name": "stdout",
     "output_type": "stream",
     "text": [
      "(6, 16, 16)\n"
     ]
    }
   ],
   "source": [
    "_attentions = [att.detach().cpu().numpy() for att in attentions]\n",
    "attentions_mat = np.asarray(_attentions)[:,0] # (num_layers,num_heads,src_len,src_len)\n",
    "att_mat_sum_heads = attentions_mat.sum(axis=1)/attentions_mat.shape[1]\n",
    "print(att_mat_sum_heads.shape)\n",
    "normalized_model_norms = normalize_contributions(transformed_vectors_norm_model,scaling='sum_one')\n",
    "normalized_contributions = normalize_contributions(contributions,scaling='min_sum')#min_sum\n"
   ]
  },
  {
   "cell_type": "markdown",
   "metadata": {},
   "source": [
    "### Rollout with attention weights (Abnar and Zuidema, 2020)"
   ]
  },
  {
   "cell_type": "code",
   "execution_count": 27,
   "metadata": {},
   "outputs": [],
   "source": [
    "joint_attentions = compute_rollout(att_mat_sum_heads)\n"
   ]
  },
  {
   "cell_type": "code",
   "execution_count": 28,
   "metadata": {},
   "outputs": [
    {
     "data": {
      "image/png": "[encoded data removed]",
      "text/plain": [
       "<Figure size 432x432 with 2 Axes>"
      ]
     },
     "metadata": {
      "needs_background": "light"
     },
     "output_type": "display_data"
    }
   ],
   "source": [
    "layer = -1\n",
    "plt.figure(figsize=(6,6))\n",
    "df = pd.DataFrame(joint_attentions[layer].cpu().detach().numpy(),columns=tokenized_text,index=tokenized_text)\n",
    "sns.heatmap(df,cmap=\"Blues\",square=True)\n",
    "plt.gcf().subplots_adjust(bottom=0.2)"
   ]
  },
  {
   "cell_type": "code",
   "execution_count": 29,
   "metadata": {},
   "outputs": [
    {
     "data": {
      "image/png": "[encoded data removed]",
      "text/plain": [
       "<Figure size 1440x288 with 1 Axes>"
      ]
     },
     "metadata": {
      "needs_background": "light"
     },
     "output_type": "display_data"
    }
   ],
   "source": [
    "joint_attention_layer = -1\n",
    "pos = target_idx\n",
    "joint_attentions_cls = joint_attentions[joint_attention_layer][pos]\n",
    "plot_histogram(joint_attentions_cls,tokenized_text)"
   ]
  },
  {
   "cell_type": "markdown",
   "metadata": {},
   "source": [
    "### Attention rollout + (Vector Norms T(x_j + RES + LN)) (Kobayashi et al., 2021)"
   ]
  },
  {
   "cell_type": "code",
   "execution_count": 30,
   "metadata": {},
   "outputs": [
    {
     "data": {
      "image/png": "[encoded data removed]",
      "text/plain": [
       "<Figure size 1440x288 with 1 Axes>"
      ]
     },
     "metadata": {
      "needs_background": "light"
     },
     "output_type": "display_data"
    }
   ],
   "source": [
    "norms_mix = compute_joint_attention(normalized_model_norms)\n",
    "joint_attention_layer = -1\n",
    "pos = target_idx\n",
    "norms_mix_cls = norms_mix[joint_attention_layer][pos]\n",
    "plot_histogram(norms_mix_cls,tokenized_text)"
   ]
  },
  {
   "cell_type": "code",
   "execution_count": 31,
   "metadata": {},
   "outputs": [
    {
     "data": {
      "image/png": "[encoded data removed]",
      "text/plain": [
       "<Figure size 432x432 with 2 Axes>"
      ]
     },
     "metadata": {
      "needs_background": "light"
     },
     "output_type": "display_data"
    }
   ],
   "source": [
    "\n",
    "norms_mix = norms_mix.detach().cpu().numpy()\n",
    "plt.figure(figsize=(6,6))\n",
    "joint_attention_layer = -1\n",
    "df = pd.DataFrame(norms_mix[joint_attention_layer],columns=tokenized_text,index=tokenized_text)\n",
    "sns.heatmap(df,cmap=\"Blues\",square=True)\n",
    "plt.gcf().subplots_adjust(bottom=0.2)\n"
   ]
  },
  {
   "cell_type": "markdown",
   "metadata": {},
   "source": [
    "### Our approach"
   ]
  },
  {
   "cell_type": "code",
   "execution_count": 32,
   "metadata": {},
   "outputs": [
    {
     "name": "stdout",
     "output_type": "stream",
     "text": [
      "torch.float32\n"
     ]
    },
    {
     "data": {
      "image/png": "[encoded data removed]",
      "text/plain": [
       "<Figure size 1440x288 with 1 Axes>"
      ]
     },
     "metadata": {
      "needs_background": "light"
     },
     "output_type": "display_data"
    }
   ],
   "source": [
    "print(normalized_contributions.dtype)\n",
    "contributions_mix = compute_joint_attention(normalized_contributions)\n",
    "joint_attention_layer = -1\n",
    "pos = target_idx\n",
    "contributions_mix_cls = contributions_mix[joint_attention_layer][pos]\n",
    "plot_histogram(contributions_mix_cls,tokenized_text)"
   ]
  },
  {
   "cell_type": "code",
   "execution_count": 33,
   "metadata": {},
   "outputs": [
    {
     "data": {
      "image/png": "[encoded data removed]",
      "text/plain": [
       "<Figure size 576x576 with 2 Axes>"
      ]
     },
     "metadata": {
      "needs_background": "light"
     },
     "output_type": "display_data"
    }
   ],
   "source": [
    "contributions_mix = contributions_mix.detach().cpu().numpy()\n",
    "plt.figure(figsize=(8,8))\n",
    "\n",
    "#joint_attention_normalized_layer = contributions_mix[joint_attention_layer] / joint_attentions[joint_attention_layer].sum(axis=-1)[...,None]\n",
    "df = pd.DataFrame(contributions_mix[joint_attention_layer],columns=tokenized_text,index=tokenized_text)\n",
    "sns.heatmap(df,cmap=\"Blues\",square=True)#Reds,,center=0\n",
    "plt.gcf().subplots_adjust(bottom=0.2)\n"
   ]
  },
  {
   "cell_type": "code",
   "execution_count": 34,
   "metadata": {},
   "outputs": [],
   "source": [
    "# try:\n",
    "#     num_layers = model.config.num_hidden_layers\n",
    "# except:\n",
    "#     num_layers = model.config.n_layers\n",
    "\n",
    "# if num_layers == 12:\n",
    "#     fig, axs = plt.subplots(3, 4,figsize=(25,19),sharey=False)\n",
    "#     row = 4\n",
    "#     col = 4\n",
    "# elif num_layers == 6:\n",
    "#     fig, axs = plt.subplots(2, 3,figsize=(20,13),sharey=False)\n",
    "#     row = 3\n",
    "#     col = 3\n",
    "\n",
    "# for layer in range(0,num_layers):\n",
    "#     df = pd.DataFrame(contributions_mix[layer],columns=tokenized_text,index=tokenized_text)\n",
    "#     sns.heatmap(df,cmap=\"Blues\",square=True,ax=axs[int(layer/row),layer%col],cbar_kws={'shrink': 0.8})\n",
    "#     axs[int(layer/row),layer%col].set_title('Layer ' + str(layer))\n",
    "#     axs[int(layer/row),layer%col].tick_params(axis='x', rotation=90)\n",
    "#     plt.gcf().subplots_adjust(bottom=0.2)"
   ]
  },
  {
   "cell_type": "markdown",
   "metadata": {},
   "source": [
    "## Other attribution methods with Captum"
   ]
  },
  {
   "cell_type": "code",
   "execution_count": 35,
   "metadata": {},
   "outputs": [],
   "source": [
    "## https://github.com/pytorch/captum/issues/150\n",
    "\n",
    "bert_model_wrapper = LMModelWrapperCaptum(model)\n",
    "\n",
    "grad_attributions = interpret_sentence_sv(bert_model_wrapper, tokenizer, sentence=text, method='grad', mask_pos=target_idx, label=pred_ind)\n",
    "grad_input_attributions = interpret_sentence_sv(bert_model_wrapper, tokenizer, sentence=text, method='grad_input', mask_pos=target_idx, label=pred_ind)\n",
    "grad_ig_attributions = interpret_sentence_sv(bert_model_wrapper, tokenizer, sentence=text, method='ig', mask_pos=target_idx, label=pred_ind)\n"
   ]
  },
  {
   "cell_type": "code",
   "execution_count": 36,
   "metadata": {},
   "outputs": [
    {
     "data": {
      "text/html": [
       "<table width: 100%><div style=\"border-top: 1px solid; margin-top: 5px;             padding-top: 5px; display: inline-block\"><b>Legend: </b><span style=\"display: inline-block; width: 10px; height: 10px;                 border: 1px solid; background-color:                 hsl(0, 75%, 60%)\"></span> Negative  <span style=\"display: inline-block; width: 10px; height: 10px;                 border: 1px solid; background-color:                 hsl(0, 75%, 100%)\"></span> Neutral  <span style=\"display: inline-block; width: 10px; height: 10px;                 border: 1px solid; background-color:                 hsl(120, 75%, 50%)\"></span> Positive  </div><tr><th>True Label</th><th>Predicted Label</th><th>Attribution Label</th><th>Attribution Score</th><th>Word Importance</th><tr><td><text style=\"padding-right:2em\"><b>3711</b></text></td><td><text style=\"padding-right:2em\"><b>3711 (1.00)</b></text></td><td><text style=\"padding-right:2em\"><b>label</b></text></td><td><text style=\"padding-right:2em\"><b>5.66</b></text></td><td><mark style=\"background-color: hsl(120, 75%, 67%); opacity:1.0;                     line-height:1.75\"><font color=\"black\"> [CLS]                    </font></mark><mark style=\"background-color: hsl(120, 75%, 60%); opacity:1.0;                     line-height:1.75\"><font color=\"black\"> certainly                    </font></mark><mark style=\"background-color: hsl(120, 75%, 97%); opacity:1.0;                     line-height:1.75\"><font color=\"black\"> the                    </font></mark><mark style=\"background-color: hsl(120, 75%, 86%); opacity:1.0;                     line-height:1.75\"><font color=\"black\"> tracks                    </font></mark><mark style=\"background-color: hsl(120, 75%, 89%); opacity:1.0;                     line-height:1.75\"><font color=\"black\"> listed                    </font></mark><mark style=\"background-color: hsl(120, 75%, 100%); opacity:1.0;                     line-height:1.75\"><font color=\"black\"> on                    </font></mark><mark style=\"background-color: hsl(0, 75%, 100%); opacity:1.0;                     line-height:1.75\"><font color=\"black\"> the                    </font></mark><mark style=\"background-color: hsl(120, 75%, 84%); opacity:1.0;                     line-height:1.75\"><font color=\"black\"> chart                    </font></mark><mark style=\"background-color: hsl(120, 75%, 71%); opacity:1.0;                     line-height:1.75\"><font color=\"black\"> all                    </font></mark><mark style=\"background-color: hsl(120, 75%, 73%); opacity:1.0;                     line-height:1.75\"><font color=\"black\"> [MASK]                    </font></mark><mark style=\"background-color: hsl(120, 75%, 85%); opacity:1.0;                     line-height:1.75\"><font color=\"black\"> to                    </font></mark><mark style=\"background-color: hsl(120, 75%, 85%); opacity:1.0;                     line-height:1.75\"><font color=\"black\"> be                    </font></mark><mark style=\"background-color: hsl(120, 75%, 85%); opacity:1.0;                     line-height:1.75\"><font color=\"black\"> very                    </font></mark><mark style=\"background-color: hsl(120, 75%, 50%); opacity:1.0;                     line-height:1.75\"><font color=\"black\"> obscure                    </font></mark><mark style=\"background-color: hsl(120, 75%, 97%); opacity:1.0;                     line-height:1.75\"><font color=\"black\"> .                    </font></mark><mark style=\"background-color: hsl(120, 75%, 95%); opacity:1.0;                     line-height:1.75\"><font color=\"black\"> [SEP]                    </font></mark></td><tr><tr><td><text style=\"padding-right:2em\"><b>3711</b></text></td><td><text style=\"padding-right:2em\"><b>3711 (1.00)</b></text></td><td><text style=\"padding-right:2em\"><b>label</b></text></td><td><text style=\"padding-right:2em\"><b>3.51</b></text></td><td><mark style=\"background-color: hsl(120, 75%, 99%); opacity:1.0;                     line-height:1.75\"><font color=\"black\"> [CLS]                    </font></mark><mark style=\"background-color: hsl(120, 75%, 80%); opacity:1.0;                     line-height:1.75\"><font color=\"black\"> certainly                    </font></mark><mark style=\"background-color: hsl(0, 75%, 100%); opacity:1.0;                     line-height:1.75\"><font color=\"black\"> the                    </font></mark><mark style=\"background-color: hsl(120, 75%, 91%); opacity:1.0;                     line-height:1.75\"><font color=\"black\"> tracks                    </font></mark><mark style=\"background-color: hsl(120, 75%, 92%); opacity:1.0;                     line-height:1.75\"><font color=\"black\"> listed                    </font></mark><mark style=\"background-color: hsl(120, 75%, 100%); opacity:1.0;                     line-height:1.75\"><font color=\"black\"> on                    </font></mark><mark style=\"background-color: hsl(120, 75%, 100%); opacity:1.0;                     line-height:1.75\"><font color=\"black\"> the                    </font></mark><mark style=\"background-color: hsl(120, 75%, 97%); opacity:1.0;                     line-height:1.75\"><font color=\"black\"> chart                    </font></mark><mark style=\"background-color: hsl(120, 75%, 91%); opacity:1.0;                     line-height:1.75\"><font color=\"black\"> all                    </font></mark><mark style=\"background-color: hsl(120, 75%, 85%); opacity:1.0;                     line-height:1.75\"><font color=\"black\"> [MASK]                    </font></mark><mark style=\"background-color: hsl(120, 75%, 50%); opacity:1.0;                     line-height:1.75\"><font color=\"black\"> to                    </font></mark><mark style=\"background-color: hsl(120, 75%, 92%); opacity:1.0;                     line-height:1.75\"><font color=\"black\"> be                    </font></mark><mark style=\"background-color: hsl(120, 75%, 72%); opacity:1.0;                     line-height:1.75\"><font color=\"black\"> very                    </font></mark><mark style=\"background-color: hsl(120, 75%, 94%); opacity:1.0;                     line-height:1.75\"><font color=\"black\"> obscure                    </font></mark><mark style=\"background-color: hsl(120, 75%, 90%); opacity:1.0;                     line-height:1.75\"><font color=\"black\"> .                    </font></mark><mark style=\"background-color: hsl(120, 75%, 99%); opacity:1.0;                     line-height:1.75\"><font color=\"black\"> [SEP]                    </font></mark></td><tr><tr><td><text style=\"padding-right:2em\"><b>3711</b></text></td><td><text style=\"padding-right:2em\"><b>3711 (1.00)</b></text></td><td><text style=\"padding-right:2em\"><b>label</b></text></td><td><text style=\"padding-right:2em\"><b>2.23</b></text></td><td><mark style=\"background-color: hsl(0, 75%, 100%); opacity:1.0;                     line-height:1.75\"><font color=\"black\"> [CLS]                    </font></mark><mark style=\"background-color: hsl(120, 75%, 93%); opacity:1.0;                     line-height:1.75\"><font color=\"black\"> certainly                    </font></mark><mark style=\"background-color: hsl(120, 75%, 98%); opacity:1.0;                     line-height:1.75\"><font color=\"black\"> the                    </font></mark><mark style=\"background-color: hsl(120, 75%, 95%); opacity:1.0;                     line-height:1.75\"><font color=\"black\"> tracks                    </font></mark><mark style=\"background-color: hsl(120, 75%, 98%); opacity:1.0;                     line-height:1.75\"><font color=\"black\"> listed                    </font></mark><mark style=\"background-color: hsl(120, 75%, 95%); opacity:1.0;                     line-height:1.75\"><font color=\"black\"> on                    </font></mark><mark style=\"background-color: hsl(120, 75%, 100%); opacity:1.0;                     line-height:1.75\"><font color=\"black\"> the                    </font></mark><mark style=\"background-color: hsl(120, 75%, 97%); opacity:1.0;                     line-height:1.75\"><font color=\"black\"> chart                    </font></mark><mark style=\"background-color: hsl(120, 75%, 50%); opacity:1.0;                     line-height:1.75\"><font color=\"black\"> all                    </font></mark><mark style=\"background-color: hsl(120, 75%, 100%); opacity:1.0;                     line-height:1.75\"><font color=\"black\"> [MASK]                    </font></mark><mark style=\"background-color: hsl(120, 75%, 88%); opacity:1.0;                     line-height:1.75\"><font color=\"black\"> to                    </font></mark><mark style=\"background-color: hsl(120, 75%, 100%); opacity:1.0;                     line-height:1.75\"><font color=\"black\"> be                    </font></mark><mark style=\"background-color: hsl(120, 75%, 92%); opacity:1.0;                     line-height:1.75\"><font color=\"black\"> very                    </font></mark><mark style=\"background-color: hsl(120, 75%, 91%); opacity:1.0;                     line-height:1.75\"><font color=\"black\"> obscure                    </font></mark><mark style=\"background-color: hsl(120, 75%, 98%); opacity:1.0;                     line-height:1.75\"><font color=\"black\"> .                    </font></mark><mark style=\"background-color: hsl(0, 75%, 100%); opacity:1.0;                     line-height:1.75\"><font color=\"black\"> [SEP]                    </font></mark></td><tr><tr><td><text style=\"padding-right:2em\"><b>3711</b></text></td><td><text style=\"padding-right:2em\"><b>3711 (1.00)</b></text></td><td><text style=\"padding-right:2em\"><b>label</b></text></td><td><text style=\"padding-right:2em\"><b>5.69</b></text></td><td><mark style=\"background-color: hsl(0, 75%, 100%); opacity:1.0;                     line-height:1.75\"><font color=\"black\"> [CLS]                    </font></mark><mark style=\"background-color: hsl(120, 75%, 81%); opacity:1.0;                     line-height:1.75\"><font color=\"black\"> certainly                    </font></mark><mark style=\"background-color: hsl(120, 75%, 91%); opacity:1.0;                     line-height:1.75\"><font color=\"black\"> the                    </font></mark><mark style=\"background-color: hsl(120, 75%, 82%); opacity:1.0;                     line-height:1.75\"><font color=\"black\"> tracks                    </font></mark><mark style=\"background-color: hsl(120, 75%, 89%); opacity:1.0;                     line-height:1.75\"><font color=\"black\"> listed                    </font></mark><mark style=\"background-color: hsl(120, 75%, 97%); opacity:1.0;                     line-height:1.75\"><font color=\"black\"> on                    </font></mark><mark style=\"background-color: hsl(120, 75%, 95%); opacity:1.0;                     line-height:1.75\"><font color=\"black\"> the                    </font></mark><mark style=\"background-color: hsl(120, 75%, 78%); opacity:1.0;                     line-height:1.75\"><font color=\"black\"> chart                    </font></mark><mark style=\"background-color: hsl(120, 75%, 50%); opacity:1.0;                     line-height:1.75\"><font color=\"black\"> all                    </font></mark><mark style=\"background-color: hsl(120, 75%, 93%); opacity:1.0;                     line-height:1.75\"><font color=\"black\"> [MASK]                    </font></mark><mark style=\"background-color: hsl(120, 75%, 67%); opacity:1.0;                     line-height:1.75\"><font color=\"black\"> to                    </font></mark><mark style=\"background-color: hsl(120, 75%, 68%); opacity:1.0;                     line-height:1.75\"><font color=\"black\"> be                    </font></mark><mark style=\"background-color: hsl(120, 75%, 79%); opacity:1.0;                     line-height:1.75\"><font color=\"black\"> very                    </font></mark><mark style=\"background-color: hsl(120, 75%, 62%); opacity:1.0;                     line-height:1.75\"><font color=\"black\"> obscure                    </font></mark><mark style=\"background-color: hsl(120, 75%, 96%); opacity:1.0;                     line-height:1.75\"><font color=\"black\"> .                    </font></mark><mark style=\"background-color: hsl(120, 75%, 96%); opacity:1.0;                     line-height:1.75\"><font color=\"black\"> [SEP]                    </font></mark></td><tr></table>"
      ],
      "text/plain": [
       "<IPython.core.display.HTML object>"
      ]
     },
     "metadata": {},
     "output_type": "display_data"
    }
   ],
   "source": [
    "# accumalate couple samples in this array for visualization purposes\n",
    "vis_data_records_ig = []\n",
    "\n",
    "def add_attributions_to_visualizer(attributions, tokens, label, vis_data_records):\n",
    "    pred = 1\n",
    "    attributions_min_max = normalize_attribution_visualization(attributions)\n",
    "    attributions_min_max = attributions_min_max.cpu().detach().numpy()\n",
    "\n",
    "    \n",
    "    # storing couple samples in an array for visualization purposes\n",
    "    vis_data_records.append(visualization.VisualizationDataRecord(\n",
    "                            attributions_min_max,\n",
    "                            pred,\n",
    "                            label,\n",
    "                            label,\n",
    "                            \"label\",\n",
    "                            attributions_min_max.sum(),       \n",
    "                            tokens[:len(attributions_min_max)],\n",
    "                            0))\n",
    "    return attributions_min_max\n",
    "\n",
    "tokens = tokenizer.convert_ids_to_tokens(pt_batch[\"input_ids\"][0].cpu().detach().numpy().tolist())\n",
    "min_max_grad_attributions = add_attributions_to_visualizer(grad_attributions, tokens, pred_ind, vis_data_records_ig)\n",
    "min_max_grad_input_attributions = add_attributions_to_visualizer(grad_input_attributions, tokens, pred_ind, vis_data_records_ig)\n",
    "min_max_grad_ig_attributions = add_attributions_to_visualizer(grad_ig_attributions, tokens, pred_ind, vis_data_records_ig)\n",
    "min_max_contributions_mix_cls = add_attributions_to_visualizer(contributions_mix_cls, tokens, pred_ind, vis_data_records_ig)\n",
    "visualization.visualize_text(vis_data_records_ig);"
   ]
  },
  {
   "cell_type": "markdown",
   "metadata": {},
   "source": [
    "## Prepare paper saliency map tables"
   ]
  },
  {
   "cell_type": "code",
   "execution_count": 37,
   "metadata": {},
   "outputs": [],
   "source": [
    "attributions_list = []\n",
    "attributions_list.append(min_max_grad_attributions)\n",
    "attributions_list.append(min_max_grad_input_attributions)\n",
    "attributions_list.append(min_max_grad_ig_attributions)\n",
    "attributions_list.append(min_max_contributions_mix_cls)\n",
    "prepare_colorize()\n",
    "figure_saliency(attributions_list, tokenized_text)"
   ]
  },
  {
   "cell_type": "markdown",
   "metadata": {},
   "source": [
    "## Correlation between methods"
   ]
  },
  {
   "cell_type": "code",
   "execution_count": 3,
   "metadata": {},
   "outputs": [],
   "source": [
    "num_samples = 500"
   ]
  },
  {
   "cell_type": "code",
   "execution_count": 4,
   "metadata": {},
   "outputs": [],
   "source": [
    "\n",
    "layer = -1\n",
    "all_examples_raw_relevance = {}\n",
    "all_examples_raw_relevance[layer] = []\n",
    "\n",
    "all_examples_rollout_relevance = {}\n",
    "all_examples_rollout_relevance[layer] = []\n",
    "\n",
    "all_examples_norms_mix_relevance = {}\n",
    "all_examples_norms_mix_relevance[layer] = []\n",
    "\n",
    "all_examples_contributions_mix_relevance = {}\n",
    "all_examples_contributions_mix_relevance[layer] = []\n",
    "\n",
    "all_examples_blankout_relevance = []\n",
    "\n",
    "all_examples_x = []\n",
    "\n",
    "data_file = open(\"lgd_dataset.tsv\",encoding=\"utf8\")\n",
    "data_file_list = data_file.readlines()\n",
    "\n",
    "# Random samples from test set (no duplicates)\n",
    "random.seed(10)\n",
    "random_samples_list = random.sample(range(len(data_file_list)), num_samples)\n",
    "\n",
    "#for i,line in enumerate(open(\"lgd_dataset.tsv\",encoding=\"utf8\")):\n",
    "for i in random_samples_list:\n",
    "    #na,_,masked,good,bad = line.strip().split(\"\\t\")\n",
    "    na,_,masked,good,bad = data_file_list[i].strip().split(\"\\t\")\n",
    "    if i == num_samples:\n",
    "        break\n",
    "    # Add Ġ to word if using RoBERTa\n",
    "    if model_name == 'roberta':\n",
    "        good = '\\u0120' + good\n",
    "        bad = '\\u0120' + bad\n",
    "    text = masked.replace('***mask***',tokenizer.mask_token)\n",
    "    pt_batch = tokenizer(text, return_tensors=\"pt\").to(device)\n",
    "    target_idx = (pt_batch['input_ids'][0] == tokenizer.mask_token_id).nonzero(as_tuple=True)\n",
    "    target_idx = target_idx[0].item()\n",
    "    good_verb_id = tokenizer.convert_tokens_to_ids(good)\n",
    "    wrong_verb_id = tokenizer.convert_tokens_to_ids(bad)\n",
    "    \n",
    "    model_wrapped = ModelWrapper(model)\n",
    "    prediction_scores, hidden_states, attentions, transformed_vectors_norm_model, contributions, _ = model_wrapped(pt_batch)\n",
    "    all_examples_x.append(pt_batch[\"input_ids\"][0])\n",
    "\n",
    "   \n",
    "    probs = torch.nn.functional.softmax(prediction_scores, dim=-1)\n",
    "    actual_verb_score = probs[0][target_idx][good_verb_id]\n",
    "    inflected_verb_score = probs[0][target_idx][wrong_verb_id]\n",
    "\n",
    "    main_diff_score = actual_verb_score - inflected_verb_score\n",
    "\n",
    "    # Raw attentions relevances    \n",
    "    _attentions = [att.detach().cpu().numpy() for att in attentions]\n",
    "    attentions_mat = np.asarray(_attentions)[:,0]\n",
    "    raw_attn_relevances = get_raw_att_relevance(attentions_mat,token_pos=target_idx)\n",
    "    # raw_attn_relevances = np.delete(raw_attn_relevances,target_idx)\n",
    "    # raw_attn_relevances = raw_attn_relevances[1:-1]\n",
    "    all_examples_raw_relevance[layer].append(np.asarray(raw_attn_relevances))\n",
    "\n",
    "    # Rollout attentions relevances\n",
    "    att_mat_sum_heads = attentions_mat.sum(axis=1)/attentions_mat.shape[1]\n",
    "    joint_attentions = compute_rollout(att_mat_sum_heads)\n",
    "    rollout_relevance_relevances = joint_attentions[layer][target_idx]\n",
    "    # rollout_relevance_relevances = torch.cat((rollout_relevance_relevances[:target_idx], rollout_relevance_relevances[target_idx+1:]))\n",
    "    # rollout_relevance_relevances = rollout_relevance_relevances[1:-1]\n",
    "    all_examples_rollout_relevance[layer].append(np.asarray(rollout_relevance_relevances))\n",
    "\n",
    "    # Normalized model norms + roll out relevances\n",
    "    normalized_model_norms = normalize_contributions(transformed_vectors_norm_model,scaling='sum_one')\n",
    "    norms_mix = compute_joint_attention(normalized_model_norms)\n",
    "    norms_mix_relevances = norms_mix[layer][target_idx]\n",
    "    # norms_mix_relevances = torch.cat((norms_mix_relevances[:target_idx], norms_mix_relevances[target_idx+1:]))\n",
    "    # norms_mix_relevances = norms_mix_relevances[1:-1]\n",
    "    all_examples_norms_mix_relevance[layer].append(np.asarray(norms_mix_relevances))\n",
    "\n",
    "    # Our method relevances\n",
    "    normalized_contributions = normalize_contributions(contributions,scaling='min_sum')#min_sum\n",
    "    contributions_mix = compute_joint_attention(normalized_contributions)\n",
    "    contributions_mix_relevances = contributions_mix[layer][target_idx]\n",
    "    # contributions_mix_relevances = torch.cat((contributions_mix_relevances[:target_idx], contributions_mix_relevances[target_idx+1:]))\n",
    "    # contributions_mix_relevances = contributions_mix_relevances[1:-1]\n",
    "    all_examples_contributions_mix_relevance[layer].append(np.asarray(contributions_mix_relevances))\n",
    "\n",
    "    # Blank-out\n",
    "    main_diff_score = actual_verb_score - inflected_verb_score\n",
    "\n",
    "    # Repeating examples and replacing one token at a time with unk\n",
    "    batch_size = 1\n",
    "    max_len = pt_batch['input_ids'][0].size(0)\n",
    "\n",
    "    # Repeat each example 'max_len' times\n",
    "    x = pt_batch['input_ids'].cpu().detach().numpy()\n",
    "    extended_x = np.reshape(np.tile(x[:,None,...], (1, max_len, 1)),(-1,x.shape[-1]))\n",
    "\n",
    "    # Create unk sequences and unk mask\n",
    "    unktoken = tokenizer.encode([tokenizer.mask_token])[1]\n",
    "    unks = unktoken * np.eye(max_len)\n",
    "    unks =  np.tile(unks, (batch_size, 1))\n",
    "\n",
    "    unk_mask =  (unktoken - unks)/unktoken\n",
    "\n",
    "    # Replace one token in each repeatition with unk\n",
    "    extended_x = extended_x * unk_mask + unks\n",
    "\n",
    "    # Get the new output\n",
    "    extended_logits = model_wrapped.get_prediction(torch.tensor(extended_x, dtype=torch.int64, device=device))\n",
    "    # extended_logits = extended_predictions[0]\n",
    "    extended_probs = torch.nn.Softmax(dim=-1)(extended_logits)\n",
    "    extended_correct_probs = extended_probs[:,target_idx,good_verb_id]\n",
    "    # extended_wrong_probs =  extended_probs[:,target_idx,wrong_verb_id]\n",
    "    # extended_diff_scores = extended_correct_probs - extended_wrong_probs\n",
    "\n",
    "    # # Save the difference in the probability predicted for the correct class\n",
    "    #diffs = abs(main_diff_score - extended_diff_scores)\n",
    "    diffs = abs(actual_verb_score - extended_correct_probs)\n",
    "\n",
    "    all_examples_blankout_relevance.append(diffs.cpu().detach().numpy())\n",
    "\n",
    "    "
   ]
  },
  {
   "cell_type": "code",
   "execution_count": 5,
   "metadata": {},
   "outputs": [
    {
     "name": "stdout",
     "output_type": "stream",
     "text": [
      "############### Layer  -1 #############\n",
      "raw vs blank-out\n",
      "(24,) (24,)\n",
      "0.17341189279206584 0.1964844874301405\n",
      "rollout vs blank-out\n",
      "(24,) (24,)\n",
      "-0.09158077367051747 0.22023676835298653\n",
      "kob norms vs blank-out\n",
      "(24,) (24,)\n",
      "0.08381913636587045 0.2226121290498114\n",
      "ours vs blank-out\n",
      "(24,) (24,)\n",
      "0.4444513741131352 0.17947604156049124\n"
     ]
    }
   ],
   "source": [
    "l = layer\n",
    "print(\"############### Layer \",l, \"#############\")\n",
    "print('raw vs blank-out')\n",
    "print(all_examples_raw_relevance[l][0].shape, all_examples_blankout_relevance[0].shape)\n",
    "raw_sps_grad = []\n",
    "for i in np.arange(len(all_examples_x)):\n",
    "    sp = spearmanr(all_examples_raw_relevance[l][i],all_examples_blankout_relevance[i])\n",
    "    raw_sps_grad.append(sp[0])\n",
    "\n",
    "    \n",
    "print(np.mean(raw_sps_grad), np.std(raw_sps_grad))\n",
    "\n",
    "print('rollout vs blank-out')\n",
    "print(all_examples_rollout_relevance[l][0].shape, all_examples_blankout_relevance[0].shape)\n",
    "joint_sps_grad = []\n",
    "for i in np.arange(len(all_examples_x)):\n",
    "    sp = spearmanr(all_examples_rollout_relevance[l][i],all_examples_blankout_relevance[i])\n",
    "    joint_sps_grad.append(sp[0])\n",
    "\n",
    "print(np.mean(joint_sps_grad), np.std(joint_sps_grad))\n",
    "\n",
    "\n",
    "print('kob norms vs blank-out')\n",
    "print(all_examples_norms_mix_relevance[l][0].shape, all_examples_blankout_relevance[0].shape)\n",
    "joint_sps_grad = []\n",
    "for i in np.arange(len(all_examples_x)):\n",
    "    sp = spearmanr(all_examples_norms_mix_relevance[l][i],all_examples_blankout_relevance[i])\n",
    "    joint_sps_grad.append(sp[0])\n",
    "\n",
    "print(np.mean(joint_sps_grad), np.std(joint_sps_grad))\n",
    "\n",
    "print('ours vs blank-out')\n",
    "print(all_examples_contributions_mix_relevance[l][0].shape, all_examples_blankout_relevance[0].shape)\n",
    "joint_sps_grad = []\n",
    "for i in np.arange(len(all_examples_x)):\n",
    "    sp = spearmanr(all_examples_contributions_mix_relevance[l][i],all_examples_blankout_relevance[i])\n",
    "    joint_sps_grad.append(sp[0])\n",
    "\n",
    "    \n",
    "print(np.mean(joint_sps_grad), np.std(joint_sps_grad))"
   ]
  },
  {
   "cell_type": "code",
   "execution_count": 9,
   "metadata": {},
   "outputs": [
    {
     "ename": "AttributeError",
     "evalue": "'tuple' object has no attribute 'cpu'",
     "output_type": "error",
     "traceback": [
      "\u001b[0;31m---------------------------------------------------------------------------\u001b[0m",
      "\u001b[0;31mAttributeError\u001b[0m                            Traceback (most recent call last)",
      "\u001b[0;32m<ipython-input-9-e4735c226793>\u001b[0m in \u001b[0;36m<module>\u001b[0;34m\u001b[0m\n\u001b[1;32m     20\u001b[0m     \u001b[0msaliency\u001b[0m \u001b[0;34m=\u001b[0m \u001b[0mSaliency\u001b[0m\u001b[0;34m(\u001b[0m\u001b[0mbert_model_wrapper\u001b[0m\u001b[0;34m)\u001b[0m\u001b[0;34m\u001b[0m\u001b[0;34m\u001b[0m\u001b[0m\n\u001b[1;32m     21\u001b[0m \u001b[0;34m\u001b[0m\u001b[0m\n\u001b[0;32m---> 22\u001b[0;31m     \u001b[0mgrad_relevance\u001b[0m\u001b[0;34m,\u001b[0m \u001b[0m_\u001b[0m \u001b[0;34m=\u001b[0m \u001b[0minterpret_sentence\u001b[0m\u001b[0;34m(\u001b[0m\u001b[0mbert_model_wrapper\u001b[0m\u001b[0;34m,\u001b[0m \u001b[0msentence\u001b[0m\u001b[0;34m=\u001b[0m\u001b[0mtext\u001b[0m\u001b[0;34m,\u001b[0m \u001b[0mmethod\u001b[0m\u001b[0;34m=\u001b[0m\u001b[0;34m'grad_input'\u001b[0m\u001b[0;34m,\u001b[0m \u001b[0mmask_pos\u001b[0m\u001b[0;34m=\u001b[0m\u001b[0mtarget_idx\u001b[0m\u001b[0;34m,\u001b[0m \u001b[0mlabel\u001b[0m\u001b[0;34m=\u001b[0m\u001b[0mgood_verb_id\u001b[0m\u001b[0;34m)\u001b[0m\u001b[0;34m.\u001b[0m\u001b[0mcpu\u001b[0m\u001b[0;34m(\u001b[0m\u001b[0;34m)\u001b[0m\u001b[0;34m.\u001b[0m\u001b[0mdetach\u001b[0m\u001b[0;34m(\u001b[0m\u001b[0;34m)\u001b[0m\u001b[0;34m.\u001b[0m\u001b[0mnumpy\u001b[0m\u001b[0;34m(\u001b[0m\u001b[0;34m)\u001b[0m\u001b[0;34m\u001b[0m\u001b[0;34m\u001b[0m\u001b[0m\n\u001b[0m\u001b[1;32m     23\u001b[0m     \u001b[0;31m# grad_relevance = np.delete(grad_relevance,target_idx)\u001b[0m\u001b[0;34m\u001b[0m\u001b[0;34m\u001b[0m\u001b[0;34m\u001b[0m\u001b[0m\n\u001b[1;32m     24\u001b[0m     \u001b[0;31m# grad_relevance = grad_relevance[1:-1]\u001b[0m\u001b[0;34m\u001b[0m\u001b[0;34m\u001b[0m\u001b[0;34m\u001b[0m\u001b[0m\n",
      "\u001b[0;31mAttributeError\u001b[0m: 'tuple' object has no attribute 'cpu'"
     ]
    }
   ],
   "source": [
    "all_examples_grads = []\n",
    "#all_examples_grad_relevance[layer] = []\n",
    "for i,line in enumerate(open(\"lgd_dataset.tsv\",encoding=\"utf8\")):\n",
    "    na,_,masked,good,bad = line.strip().split(\"\\t\")\n",
    "    if i == num_samples:\n",
    "        break\n",
    "        # Add Ġ to word if using RoBERTa\n",
    "    if model_name == 'roberta':\n",
    "        good = '\\u0120' + good\n",
    "        bad = '\\u0120' + bad\n",
    "    text = masked.replace('***mask***',tokenizer.mask_token)\n",
    "    pt_batch = tokenizer(text, return_tensors=\"pt\").to(device)\n",
    "    target_idx = (pt_batch['input_ids'][0] == tokenizer.mask_token_id).nonzero(as_tuple=True)\n",
    "    target_idx = target_idx[0].item()\n",
    "    good_verb_id = tokenizer.convert_tokens_to_ids(good)\n",
    "    #wrong_verb_id = tokenizer.convert_tokens_to_ids(bad)\n",
    "\n",
    "    bert_model_wrapper = LMModelWrapperCaptum(model)\n",
    "    #ig = IntegratedGradients(bert_model_wrapper)\n",
    "    saliency = Saliency(bert_model_wrapper)\n",
    "\n",
    "    grad_relevance, _ = interpret_sentence_sv(bert_model_wrapper, tokenizer, sentence=text, method='grad_input', mask_pos=target_idx, label=good_verb_id).cpu().detach().numpy()\n",
    "    # grad_relevance = np.delete(grad_relevance,target_idx)\n",
    "    # grad_relevance = grad_relevance[1:-1]\n",
    "    all_examples_grads.append(grad_relevance)"
   ]
  },
  {
   "cell_type": "code",
   "execution_count": 24,
   "metadata": {},
   "outputs": [
    {
     "name": "stdout",
     "output_type": "stream",
     "text": [
      "############### Layer  -1 #############\n",
      "raw vs grad\n"
     ]
    },
    {
     "ename": "IndexError",
     "evalue": "list index out of range",
     "output_type": "error",
     "traceback": [
      "\u001b[0;31m---------------------------------------------------------------------------\u001b[0m",
      "\u001b[0;31mIndexError\u001b[0m                                Traceback (most recent call last)",
      "\u001b[0;32m<ipython-input-24-3131176c2b72>\u001b[0m in \u001b[0;36m<module>\u001b[0;34m\u001b[0m\n\u001b[1;32m      2\u001b[0m \u001b[0mprint\u001b[0m\u001b[0;34m(\u001b[0m\u001b[0;34m\"############### Layer \"\u001b[0m\u001b[0;34m,\u001b[0m\u001b[0ml\u001b[0m\u001b[0;34m,\u001b[0m \u001b[0;34m\"#############\"\u001b[0m\u001b[0;34m)\u001b[0m\u001b[0;34m\u001b[0m\u001b[0;34m\u001b[0m\u001b[0m\n\u001b[1;32m      3\u001b[0m \u001b[0mprint\u001b[0m\u001b[0;34m(\u001b[0m\u001b[0;34m'raw vs grad'\u001b[0m\u001b[0;34m)\u001b[0m\u001b[0;34m\u001b[0m\u001b[0;34m\u001b[0m\u001b[0m\n\u001b[0;32m----> 4\u001b[0;31m \u001b[0mprint\u001b[0m\u001b[0;34m(\u001b[0m\u001b[0mall_examples_raw_relevance\u001b[0m\u001b[0;34m[\u001b[0m\u001b[0ml\u001b[0m\u001b[0;34m]\u001b[0m\u001b[0;34m[\u001b[0m\u001b[0;36m0\u001b[0m\u001b[0;34m]\u001b[0m\u001b[0;34m.\u001b[0m\u001b[0mshape\u001b[0m\u001b[0;34m,\u001b[0m \u001b[0mall_examples_grads\u001b[0m\u001b[0;34m[\u001b[0m\u001b[0;36m0\u001b[0m\u001b[0;34m]\u001b[0m\u001b[0;34m.\u001b[0m\u001b[0mshape\u001b[0m\u001b[0;34m)\u001b[0m\u001b[0;34m\u001b[0m\u001b[0;34m\u001b[0m\u001b[0m\n\u001b[0m\u001b[1;32m      5\u001b[0m \u001b[0mraw_sps_grad\u001b[0m \u001b[0;34m=\u001b[0m \u001b[0;34m[\u001b[0m\u001b[0;34m]\u001b[0m\u001b[0;34m\u001b[0m\u001b[0;34m\u001b[0m\u001b[0m\n\u001b[1;32m      6\u001b[0m \u001b[0;32mfor\u001b[0m \u001b[0mi\u001b[0m \u001b[0;32min\u001b[0m \u001b[0mnp\u001b[0m\u001b[0;34m.\u001b[0m\u001b[0marange\u001b[0m\u001b[0;34m(\u001b[0m\u001b[0mlen\u001b[0m\u001b[0;34m(\u001b[0m\u001b[0mall_examples_x\u001b[0m\u001b[0;34m)\u001b[0m\u001b[0;34m)\u001b[0m\u001b[0;34m:\u001b[0m\u001b[0;34m\u001b[0m\u001b[0;34m\u001b[0m\u001b[0m\n",
      "\u001b[0;31mIndexError\u001b[0m: list index out of range"
     ]
    }
   ],
   "source": [
    "l = layer\n",
    "print(\"############### Layer \",l, \"#############\")\n",
    "print('raw vs grad')\n",
    "print(all_examples_raw_relevance[l][0].shape, all_examples_grads[0].shape)\n",
    "raw_sps_grad = []\n",
    "for i in np.arange(len(all_examples_x)):\n",
    "    sp = spearmanr(all_examples_raw_relevance[l][i],all_examples_grads[i])\n",
    "    raw_sps_grad.append(sp[0])\n",
    "\n",
    "    \n",
    "print(np.mean(raw_sps_grad), np.std(raw_sps_grad))\n",
    "\n",
    "print('rollout vs grad')\n",
    "print(all_examples_rollout_relevance[l][0].shape, all_examples_grads[0].shape)\n",
    "joint_sps_grad = []\n",
    "for i in np.arange(len(all_examples_x)):\n",
    "    sp = spearmanr(all_examples_rollout_relevance[l][i],all_examples_grads[i])\n",
    "    joint_sps_grad.append(sp[0])\n",
    "\n",
    "print(np.mean(joint_sps_grad), np.std(joint_sps_grad))\n",
    "\n",
    "\n",
    "print('kob norms vs grad')\n",
    "print(all_examples_norms_mix_relevance[l][0].shape, all_examples_grads[0].shape)\n",
    "joint_sps_grad = []\n",
    "for i in np.arange(len(all_examples_x)):\n",
    "    sp = spearmanr(all_examples_norms_mix_relevance[l][i],all_examples_grads[i])\n",
    "    joint_sps_grad.append(sp[0])\n",
    "\n",
    "print(np.mean(joint_sps_grad), np.std(joint_sps_grad))\n",
    "\n",
    "print('ours vs grad')\n",
    "print(all_examples_contributions_mix_relevance[l][0].shape, all_examples_grads[0].shape)\n",
    "joint_sps_grad = []\n",
    "for i in np.arange(len(all_examples_x)):\n",
    "    sp = spearmanr(all_examples_contributions_mix_relevance[l][i],all_examples_grads[i])\n",
    "    joint_sps_grad.append(sp[0])\n",
    "\n",
    "    \n",
    "print(np.mean(joint_sps_grad), np.std(joint_sps_grad))"
   ]
  },
  {
   "cell_type": "markdown",
   "metadata": {},
   "source": [
    "## Analyzing isotropy"
   ]
  },
  {
   "cell_type": "code",
   "execution_count": 5,
   "metadata": {},
   "outputs": [
    {
     "name": "stderr",
     "output_type": "stream",
     "text": [
      "Some weights of RobertaForMaskedLM were not initialized from the model checkpoint at roberta-base and are newly initialized: ['lm_head.decoder.bias']\n",
      "You should probably TRAIN this model on a down-stream task to be able to use it for predictions and inference.\n"
     ]
    }
   ],
   "source": [
    "model_name = 'roberta'\n",
    "dataset_name = 'linzen'\n",
    "get_cos_mean(model_name,dataset_name)"
   ]
  },
  {
   "cell_type": "code",
   "execution_count": 22,
   "metadata": {},
   "outputs": [],
   "source": [
    "import json\n",
    "\n",
    "plt.rcParams.update({'font.size': 15})\n",
    "def visualize_transformed_space(model_names):\n",
    "\t\"\"\"Plot the baseline charts in the paper. Images are written to the img/ subfolder.\"\"\"\n",
    "\tplt.figure(figsize=(12,4))\n",
    "\t#icons = [ 'ro:', 'bo:', 'go:']\n",
    "\tcolor = ['#82B366','#6C8EBF','#D79B00']\n",
    "\n",
    "\tfor i, (model, num_layers) in enumerate([('distilbert', 6), ('bert', 12), ('roberta', 12)]):\n",
    "\t\tx = np.array(range(num_layers))\n",
    "\t\tdata = json.load(open(f'cos_results/{model.lower()}_linzen_cos_results.json'))\n",
    "\t\tplt.plot(x, [ float(data[\"mean cosine similarity transformed vectors\"][f'layer_{i}']) for i in x ], color[i], markersize=6, label=model_names[model], linewidth=2, linestyle='--',alpha = 1, marker='o')\n",
    "\t\t#plt.plot(x, [ float(data[\"mean cosine similarity embeddings\"][f'layer_{i}']) for i in x ], color[i], markersize=6, label=model_names[model], linewidth=2, alpha=1,linestyle = '-',marker = '^')\n",
    "\t\t# print(spearmanr(\n",
    "\t\t# \t[ data[\"mean cosine similarity transformed vectors\"][f'layer_{i}'] for i in x ],\n",
    "\t\t# \t[ data[\"word norm std\"][f'layer_{i}'] for i in x ]\n",
    "\t\t# ))\n",
    "\n",
    "\t#plt.grid(False, linewidth=0.25)\n",
    "\tplt.legend(loc='upper left')\n",
    "\tplt.xlabel('Layer')\n",
    "\tplt.xticks(x)\n",
    "\tplt.ylim(0,1.0)\n",
    "\tplt.title(\"Cosine Similarity in Transformed Representations\",fontsize='18')\n",
    "\tplt.savefig(f'img/lm_mean_cosine_similarity_transformed.png', bbox_inches='tight')\n",
    "\tplt.close()\n",
    "\n",
    "def visualize_embedding_space(model_names):\n",
    "\t\"\"\"Plot the baseline charts in the paper. Images are written to the img/ subfolder.\"\"\"\n",
    "    \n",
    "\n",
    "\tplt.figure(figsize=(12,4))\n",
    "\t#icons = [ 'ro:', 'bo:', 'go:']\n",
    "\tcolor = ['#82B366','#6C8EBF','#D79B00']\n",
    "\n",
    "    \n",
    "\n",
    "\tfor i, (model, num_layers) in enumerate([('distilbert', 7), ('bert', 13), ('roberta', 13)]):\n",
    "        \n",
    "\t\tx = np.array(range(num_layers))\n",
    "\t\tdata = json.load(open(f'cos_results/{model.lower()}_linzen_cos_results.json'))\n",
    "\t\t#plt.plot(x, [ float(data[\"mean cosine similarity transformed vectors\"][f'layer_{i}']) for i in x ], icons[i], markersize=6, label=model, linewidth=2.5, alpha=0.65)\n",
    "\t\tplt.plot(x, [ float(data[\"mean cosine similarity embeddings\"][f'layer_{i}']) for i in x ], color[i], markersize=6, label=model_names[model], linewidth=2, alpha=1,linestyle = '-',marker = 'o')\n",
    "\t\t# print(spearmanr(\n",
    "\t\t# \t[ data[\"mean cosine similarity transformed vectors\"][f'layer_{i}'] for i in x ],\n",
    "\t\t# \t[ data[\"word norm std\"][f'layer_{i}'] for i in x ]\n",
    "\t\t# ))\n",
    "\n",
    "\t#plt.grid(False, linewidth=0.25)\n",
    "\tplt.legend(loc='upper left')\n",
    "\tplt.xlabel('Layer')\n",
    "\tplt.xticks(x)\n",
    "\tplt.ylim(0,1.0)\n",
    "\tplt.title(\"Cosine Similarity in Representations\",fontsize='18')\n",
    "\tplt.savefig(f'img/lm_mean_cosine_similarity_embeddings.png', bbox_inches='tight')\n",
    "\tplt.close()\n",
    "\n",
    "model_names = {'distilbert' : 'DistilBERT', 'bert': 'BERT', 'roberta': 'RoBERTa'}\n",
    "\n",
    "visualize_transformed_space(model_names)\n",
    "visualize_embedding_space(model_names)\n"
   ]
  },
  {
   "cell_type": "code",
   "execution_count": null,
   "metadata": {},
   "outputs": [],
   "source": [
    "def interpret_sentence_sv(model_wrapper, tokenizer, sentence, method, mask_pos, label):\n",
    "\n",
    "    model_wrapper.eval()\n",
    "    model_wrapper.zero_grad()\n",
    "    model_wrapper.to(device)\n",
    "\n",
    "    input_ids = torch.tensor([tokenizer.encode(sentence, add_special_tokens=True)]).to(device)\n",
    "    input_embedding = get_embedding(model_wrapper,input_ids)\n",
    "    #pred_class, pred_value = model_wrapper.get_prediction(input_embedding)\n",
    "\n",
    "    pred_class = label\n",
    "\n",
    "    if method == 'ig':\n",
    "        ref_token_id = tokenizer.pad_token_id # A token used for generating token reference\n",
    "        sep_token_id = tokenizer.sep_token_id # A token used as a separator between question and text and it is also added to the end of the text.\n",
    "        cls_token_id = tokenizer.cls_token_id # A token used for prepending to the concatenated question-text word sequence\n",
    "\n",
    "        ref_input_ids = [cls_token_id] + [ref_token_id] * (input_embedding.size(1)-2) + [sep_token_id]\n",
    "        ref_input_ids = torch.tensor([ref_input_ids], device=device)\n",
    "        ref_input_ids = get_embedding(model_wrapper,ref_input_ids)\n",
    "\n",
    "        attribution, _delta = ig.attribute(input_embedding, baselines=ref_input_ids,\n",
    "                                            target = pred_class, n_steps=100,\n",
    "                                            return_convergence_delta=True,\n",
    "                                            additional_forward_args=(mask_pos))\n",
    "\n",
    "        attribution = torch.squeeze(torch.sum(attribution,dim=-1))\n",
    "        attribution = attribution.clip(min=0)\n",
    "        attribution = attribution / attribution.sum()[...,None]\n",
    "\n",
    "    elif method == 'grad':\n",
    "        attribution = saliency.attribute(input_embedding,\n",
    "                                        target=pred_class,\n",
    "                                        abs=False,\n",
    "                                        additional_forward_args=(mask_pos))\n",
    "        attribution = torch.norm(attribution.squeeze(),dim=-1)\n",
    "        attribution = attribution / attribution.sum()[...,None]\n",
    "        \n",
    "        \n",
    "    elif method == 'grad_input':\n",
    "        # attribution = saliency.attribute(input_embedding, target=pred_class,\n",
    "        #                                 abs=True, additional_forward_args=(mask_pos))\n",
    "        attribution = input_x_gradient.attribute(input_embedding, target=pred_class, additional_forward_args=(mask_pos))\n",
    "        attribution = torch.squeeze(torch.sum(attribution,dim=-1))\n",
    "        ## grad x input (dot product between grad and embedding), sum components\n",
    "        # Clip negative scores\n",
    "        # attribution = attribution.clip(min=0)\n",
    "        # attribution = attribution / attribution.sum()[...,None]\n",
    "        \n",
    "        # Absolute value of attributions (Abnar and Zuidema, 2020)\n",
    "        attribution = torch.abs(attribution)\n",
    "        attribution = attribution / attribution.sum()[...,None]\n",
    "\n",
    "    tokens = tokenizer.convert_ids_to_tokens(input_ids[0].cpu().detach().numpy().tolist())\n",
    "    \n",
    "    token_attribution = add_attributions_to_visualizer(attribution, tokens, pred_class, vis_data_records_ig)\n",
    "    return attribution, token_attribution"
   ]
  }
 ],
 "metadata": {
  "interpreter": {
   "hash": "e704f1cc84ed2b9fe6269600206569b12c45a39f90eb745e8b9b52715147461c"
  },
  "kernelspec": {
   "display_name": "Python 3.6.13 64-bit (conda)",
   "name": "python3"
  },
  "language_info": {
   "codemirror_mode": {
    "name": "ipython",
    "version": 3
   },
   "file_extension": ".py",
   "mimetype": "text/x-python",
   "name": "python",
   "nbconvert_exporter": "python",
   "pygments_lexer": "ipython3",
   "version": "3.6.13"
  }
 },
 "nbformat": 4,
 "nbformat_minor": 4
}
